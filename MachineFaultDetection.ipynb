{
  "nbformat": 4,
  "nbformat_minor": 0,
  "metadata": {
    "colab": {
      "provenance": []
    },
    "kernelspec": {
      "name": "python3",
      "display_name": "Python 3"
    },
    "language_info": {
      "name": "python"
    }
  },
  "cells": [
    {
      "cell_type": "code",
      "execution_count": null,
      "metadata": {
        "id": "nFoyiPCYgrd0"
      },
      "outputs": [],
      "source": []
    },
    {
      "cell_type": "code",
      "source": [
        "from google.colab import drive\n",
        "drive.mount('/content/drive')"
      ],
      "metadata": {
        "colab": {
          "base_uri": "https://localhost:8080/"
        },
        "id": "BAUfTEiBhC39",
        "outputId": "8499c291-cf22-4626-c506-cfe037a35816"
      },
      "execution_count": 1,
      "outputs": [
        {
          "output_type": "stream",
          "name": "stdout",
          "text": [
            "Mounted at /content/drive\n"
          ]
        }
      ]
    },
    {
      "cell_type": "code",
      "source": [
        "import pandas as pd\n",
        "import numpy as np\n",
        "from sklearn.model_selection import train_test_split\n",
        "from sklearn.preprocessing import LabelEncoder, StandardScaler\n",
        "from sklearn.ensemble import RandomForestRegressor\n",
        "from xgboost import XGBRegressor\n",
        "from sklearn.metrics import mean_squared_error, r2_score"
      ],
      "metadata": {
        "id": "mik_USI1hETI"
      },
      "execution_count": 25,
      "outputs": []
    },
    {
      "cell_type": "code",
      "source": [
        "data = pd.read_csv(\"/content/drive/MyDrive/DATASETS/MachineData02.csv\")"
      ],
      "metadata": {
        "id": "Xi2BhFUUiplk"
      },
      "execution_count": 26,
      "outputs": []
    },
    {
      "cell_type": "code",
      "source": [
        "data.info()"
      ],
      "metadata": {
        "colab": {
          "base_uri": "https://localhost:8080/"
        },
        "id": "4DXcg5pai5M4",
        "outputId": "49e20963-3e00-4c91-9a09-60b96b6546d8"
      },
      "execution_count": 27,
      "outputs": [
        {
          "output_type": "stream",
          "name": "stdout",
          "text": [
            "<class 'pandas.core.frame.DataFrame'>\n",
            "RangeIndex: 1000 entries, 0 to 999\n",
            "Data columns (total 21 columns):\n",
            " #   Column                              Non-Null Count  Dtype  \n",
            "---  ------                              --------------  -----  \n",
            " 0   Timestamp                           1000 non-null   object \n",
            " 1   Equipment ID                        1000 non-null   object \n",
            " 2   Equipment Type                      1000 non-null   object \n",
            " 3   Location                            1000 non-null   object \n",
            " 4   Operating Temperature (°C)          1000 non-null   int64  \n",
            " 5   Operating Pressure (bar)            1000 non-null   int64  \n",
            " 6   Flow Rate (m3/h)                    1000 non-null   float64\n",
            " 7   Power Consumption (kW)              1000 non-null   int64  \n",
            " 8   Speed (RPM)                         1000 non-null   int64  \n",
            " 9   Vibration Level (mm/s)              1000 non-null   float64\n",
            " 10  Health Status                       1000 non-null   object \n",
            " 11  Fault Type                          857 non-null    object \n",
            " 12  Wear & Tear (%)                     1000 non-null   int64  \n",
            " 13  Maintenance Interval (days)         1000 non-null   int64  \n",
            " 14  Failure Probability (%)             1000 non-null   int64  \n",
            " 15  Time Since Last Maintenance (days)  1000 non-null   int64  \n",
            " 16  Predicted Failure Date              1000 non-null   object \n",
            " 17  Failure Mode Prediction             1000 non-null   object \n",
            " 18  Ambient Temperature (°C)            1000 non-null   int64  \n",
            " 19  Humidity (%)                        1000 non-null   int64  \n",
            " 20  Air Quality                         1000 non-null   object \n",
            "dtypes: float64(2), int64(10), object(9)\n",
            "memory usage: 164.2+ KB\n"
          ]
        }
      ]
    },
    {
      "cell_type": "code",
      "source": [
        "data.describe()"
      ],
      "metadata": {
        "colab": {
          "base_uri": "https://localhost:8080/",
          "height": 372
        },
        "id": "XP2tqHDbi6nZ",
        "outputId": "973ce307-55e2-4876-b35d-c7f0c9fc8bd6"
      },
      "execution_count": 28,
      "outputs": [
        {
          "output_type": "execute_result",
          "data": {
            "text/plain": [
              "       Operating Temperature (°C)  Operating Pressure (bar)  Flow Rate (m3/h)  \\\n",
              "count                 1000.000000               1000.000000       1000.000000   \n",
              "mean                   119.162000                 17.401000          4.487500   \n",
              "std                     23.328694                  4.570896          0.882889   \n",
              "min                     80.000000                 10.000000          2.900000   \n",
              "25%                     99.000000                 13.000000          3.700000   \n",
              "50%                    120.000000                 17.000000          4.500000   \n",
              "75%                    139.000000                 21.000000          5.300000   \n",
              "max                    160.000000                 25.000000          6.000000   \n",
              "\n",
              "       Power Consumption (kW)  Speed (RPM)  Vibration Level (mm/s)  \\\n",
              "count             1000.000000  1000.000000             1000.000000   \n",
              "mean                64.362000  2294.398000                0.580000   \n",
              "std                 31.280624   454.165481                0.244355   \n",
              "min                 10.000000  1500.000000                0.150000   \n",
              "25%                 38.000000  1895.250000                0.380000   \n",
              "50%                 63.000000  2303.500000                0.580000   \n",
              "75%                 91.000000  2681.250000                0.790000   \n",
              "max                120.000000  3100.000000                1.000000   \n",
              "\n",
              "       Wear & Tear (%)  Maintenance Interval (days)  Failure Probability (%)  \\\n",
              "count      1000.000000                   1000.00000               1000.00000   \n",
              "mean         43.188000                     20.22300                 29.75500   \n",
              "std          25.248765                     11.76519                 17.16746   \n",
              "min           2.000000                      1.00000                  1.00000   \n",
              "25%          20.000000                     10.00000                 15.00000   \n",
              "50%          44.000000                     19.50000                 28.00000   \n",
              "75%          66.000000                     30.25000                 45.00000   \n",
              "max          85.000000                     40.00000                 60.00000   \n",
              "\n",
              "       Time Since Last Maintenance (days)  Ambient Temperature (°C)  \\\n",
              "count                         1000.000000               1000.000000   \n",
              "mean                            25.069000                 27.515000   \n",
              "std                              8.804644                  1.706073   \n",
              "min                             10.000000                 25.000000   \n",
              "25%                             17.000000                 26.000000   \n",
              "50%                             25.000000                 27.000000   \n",
              "75%                             33.000000                 29.000000   \n",
              "max                             40.000000                 30.000000   \n",
              "\n",
              "       Humidity (%)  \n",
              "count   1000.000000  \n",
              "mean      57.842000  \n",
              "std        7.269793  \n",
              "min       45.000000  \n",
              "25%       52.000000  \n",
              "50%       58.000000  \n",
              "75%       64.000000  \n",
              "max       70.000000  "
            ],
            "text/html": [
              "\n",
              "  <div id=\"df-821a96ca-7a56-47ce-a0cc-17898e8c9323\" class=\"colab-df-container\">\n",
              "    <div>\n",
              "<style scoped>\n",
              "    .dataframe tbody tr th:only-of-type {\n",
              "        vertical-align: middle;\n",
              "    }\n",
              "\n",
              "    .dataframe tbody tr th {\n",
              "        vertical-align: top;\n",
              "    }\n",
              "\n",
              "    .dataframe thead th {\n",
              "        text-align: right;\n",
              "    }\n",
              "</style>\n",
              "<table border=\"1\" class=\"dataframe\">\n",
              "  <thead>\n",
              "    <tr style=\"text-align: right;\">\n",
              "      <th></th>\n",
              "      <th>Operating Temperature (°C)</th>\n",
              "      <th>Operating Pressure (bar)</th>\n",
              "      <th>Flow Rate (m3/h)</th>\n",
              "      <th>Power Consumption (kW)</th>\n",
              "      <th>Speed (RPM)</th>\n",
              "      <th>Vibration Level (mm/s)</th>\n",
              "      <th>Wear &amp; Tear (%)</th>\n",
              "      <th>Maintenance Interval (days)</th>\n",
              "      <th>Failure Probability (%)</th>\n",
              "      <th>Time Since Last Maintenance (days)</th>\n",
              "      <th>Ambient Temperature (°C)</th>\n",
              "      <th>Humidity (%)</th>\n",
              "    </tr>\n",
              "  </thead>\n",
              "  <tbody>\n",
              "    <tr>\n",
              "      <th>count</th>\n",
              "      <td>1000.000000</td>\n",
              "      <td>1000.000000</td>\n",
              "      <td>1000.000000</td>\n",
              "      <td>1000.000000</td>\n",
              "      <td>1000.000000</td>\n",
              "      <td>1000.000000</td>\n",
              "      <td>1000.000000</td>\n",
              "      <td>1000.00000</td>\n",
              "      <td>1000.00000</td>\n",
              "      <td>1000.000000</td>\n",
              "      <td>1000.000000</td>\n",
              "      <td>1000.000000</td>\n",
              "    </tr>\n",
              "    <tr>\n",
              "      <th>mean</th>\n",
              "      <td>119.162000</td>\n",
              "      <td>17.401000</td>\n",
              "      <td>4.487500</td>\n",
              "      <td>64.362000</td>\n",
              "      <td>2294.398000</td>\n",
              "      <td>0.580000</td>\n",
              "      <td>43.188000</td>\n",
              "      <td>20.22300</td>\n",
              "      <td>29.75500</td>\n",
              "      <td>25.069000</td>\n",
              "      <td>27.515000</td>\n",
              "      <td>57.842000</td>\n",
              "    </tr>\n",
              "    <tr>\n",
              "      <th>std</th>\n",
              "      <td>23.328694</td>\n",
              "      <td>4.570896</td>\n",
              "      <td>0.882889</td>\n",
              "      <td>31.280624</td>\n",
              "      <td>454.165481</td>\n",
              "      <td>0.244355</td>\n",
              "      <td>25.248765</td>\n",
              "      <td>11.76519</td>\n",
              "      <td>17.16746</td>\n",
              "      <td>8.804644</td>\n",
              "      <td>1.706073</td>\n",
              "      <td>7.269793</td>\n",
              "    </tr>\n",
              "    <tr>\n",
              "      <th>min</th>\n",
              "      <td>80.000000</td>\n",
              "      <td>10.000000</td>\n",
              "      <td>2.900000</td>\n",
              "      <td>10.000000</td>\n",
              "      <td>1500.000000</td>\n",
              "      <td>0.150000</td>\n",
              "      <td>2.000000</td>\n",
              "      <td>1.00000</td>\n",
              "      <td>1.00000</td>\n",
              "      <td>10.000000</td>\n",
              "      <td>25.000000</td>\n",
              "      <td>45.000000</td>\n",
              "    </tr>\n",
              "    <tr>\n",
              "      <th>25%</th>\n",
              "      <td>99.000000</td>\n",
              "      <td>13.000000</td>\n",
              "      <td>3.700000</td>\n",
              "      <td>38.000000</td>\n",
              "      <td>1895.250000</td>\n",
              "      <td>0.380000</td>\n",
              "      <td>20.000000</td>\n",
              "      <td>10.00000</td>\n",
              "      <td>15.00000</td>\n",
              "      <td>17.000000</td>\n",
              "      <td>26.000000</td>\n",
              "      <td>52.000000</td>\n",
              "    </tr>\n",
              "    <tr>\n",
              "      <th>50%</th>\n",
              "      <td>120.000000</td>\n",
              "      <td>17.000000</td>\n",
              "      <td>4.500000</td>\n",
              "      <td>63.000000</td>\n",
              "      <td>2303.500000</td>\n",
              "      <td>0.580000</td>\n",
              "      <td>44.000000</td>\n",
              "      <td>19.50000</td>\n",
              "      <td>28.00000</td>\n",
              "      <td>25.000000</td>\n",
              "      <td>27.000000</td>\n",
              "      <td>58.000000</td>\n",
              "    </tr>\n",
              "    <tr>\n",
              "      <th>75%</th>\n",
              "      <td>139.000000</td>\n",
              "      <td>21.000000</td>\n",
              "      <td>5.300000</td>\n",
              "      <td>91.000000</td>\n",
              "      <td>2681.250000</td>\n",
              "      <td>0.790000</td>\n",
              "      <td>66.000000</td>\n",
              "      <td>30.25000</td>\n",
              "      <td>45.00000</td>\n",
              "      <td>33.000000</td>\n",
              "      <td>29.000000</td>\n",
              "      <td>64.000000</td>\n",
              "    </tr>\n",
              "    <tr>\n",
              "      <th>max</th>\n",
              "      <td>160.000000</td>\n",
              "      <td>25.000000</td>\n",
              "      <td>6.000000</td>\n",
              "      <td>120.000000</td>\n",
              "      <td>3100.000000</td>\n",
              "      <td>1.000000</td>\n",
              "      <td>85.000000</td>\n",
              "      <td>40.00000</td>\n",
              "      <td>60.00000</td>\n",
              "      <td>40.000000</td>\n",
              "      <td>30.000000</td>\n",
              "      <td>70.000000</td>\n",
              "    </tr>\n",
              "  </tbody>\n",
              "</table>\n",
              "</div>\n",
              "    <div class=\"colab-df-buttons\">\n",
              "\n",
              "  <div class=\"colab-df-container\">\n",
              "    <button class=\"colab-df-convert\" onclick=\"convertToInteractive('df-821a96ca-7a56-47ce-a0cc-17898e8c9323')\"\n",
              "            title=\"Convert this dataframe to an interactive table.\"\n",
              "            style=\"display:none;\">\n",
              "\n",
              "  <svg xmlns=\"http://www.w3.org/2000/svg\" height=\"24px\" viewBox=\"0 -960 960 960\">\n",
              "    <path d=\"M120-120v-720h720v720H120Zm60-500h600v-160H180v160Zm220 220h160v-160H400v160Zm0 220h160v-160H400v160ZM180-400h160v-160H180v160Zm440 0h160v-160H620v160ZM180-180h160v-160H180v160Zm440 0h160v-160H620v160Z\"/>\n",
              "  </svg>\n",
              "    </button>\n",
              "\n",
              "  <style>\n",
              "    .colab-df-container {\n",
              "      display:flex;\n",
              "      gap: 12px;\n",
              "    }\n",
              "\n",
              "    .colab-df-convert {\n",
              "      background-color: #E8F0FE;\n",
              "      border: none;\n",
              "      border-radius: 50%;\n",
              "      cursor: pointer;\n",
              "      display: none;\n",
              "      fill: #1967D2;\n",
              "      height: 32px;\n",
              "      padding: 0 0 0 0;\n",
              "      width: 32px;\n",
              "    }\n",
              "\n",
              "    .colab-df-convert:hover {\n",
              "      background-color: #E2EBFA;\n",
              "      box-shadow: 0px 1px 2px rgba(60, 64, 67, 0.3), 0px 1px 3px 1px rgba(60, 64, 67, 0.15);\n",
              "      fill: #174EA6;\n",
              "    }\n",
              "\n",
              "    .colab-df-buttons div {\n",
              "      margin-bottom: 4px;\n",
              "    }\n",
              "\n",
              "    [theme=dark] .colab-df-convert {\n",
              "      background-color: #3B4455;\n",
              "      fill: #D2E3FC;\n",
              "    }\n",
              "\n",
              "    [theme=dark] .colab-df-convert:hover {\n",
              "      background-color: #434B5C;\n",
              "      box-shadow: 0px 1px 3px 1px rgba(0, 0, 0, 0.15);\n",
              "      filter: drop-shadow(0px 1px 2px rgba(0, 0, 0, 0.3));\n",
              "      fill: #FFFFFF;\n",
              "    }\n",
              "  </style>\n",
              "\n",
              "    <script>\n",
              "      const buttonEl =\n",
              "        document.querySelector('#df-821a96ca-7a56-47ce-a0cc-17898e8c9323 button.colab-df-convert');\n",
              "      buttonEl.style.display =\n",
              "        google.colab.kernel.accessAllowed ? 'block' : 'none';\n",
              "\n",
              "      async function convertToInteractive(key) {\n",
              "        const element = document.querySelector('#df-821a96ca-7a56-47ce-a0cc-17898e8c9323');\n",
              "        const dataTable =\n",
              "          await google.colab.kernel.invokeFunction('convertToInteractive',\n",
              "                                                    [key], {});\n",
              "        if (!dataTable) return;\n",
              "\n",
              "        const docLinkHtml = 'Like what you see? Visit the ' +\n",
              "          '<a target=\"_blank\" href=https://colab.research.google.com/notebooks/data_table.ipynb>data table notebook</a>'\n",
              "          + ' to learn more about interactive tables.';\n",
              "        element.innerHTML = '';\n",
              "        dataTable['output_type'] = 'display_data';\n",
              "        await google.colab.output.renderOutput(dataTable, element);\n",
              "        const docLink = document.createElement('div');\n",
              "        docLink.innerHTML = docLinkHtml;\n",
              "        element.appendChild(docLink);\n",
              "      }\n",
              "    </script>\n",
              "  </div>\n",
              "\n",
              "\n",
              "<div id=\"df-83b6c245-d48c-4d55-978c-50b9cdd70a0f\">\n",
              "  <button class=\"colab-df-quickchart\" onclick=\"quickchart('df-83b6c245-d48c-4d55-978c-50b9cdd70a0f')\"\n",
              "            title=\"Suggest charts\"\n",
              "            style=\"display:none;\">\n",
              "\n",
              "<svg xmlns=\"http://www.w3.org/2000/svg\" height=\"24px\"viewBox=\"0 0 24 24\"\n",
              "     width=\"24px\">\n",
              "    <g>\n",
              "        <path d=\"M19 3H5c-1.1 0-2 .9-2 2v14c0 1.1.9 2 2 2h14c1.1 0 2-.9 2-2V5c0-1.1-.9-2-2-2zM9 17H7v-7h2v7zm4 0h-2V7h2v10zm4 0h-2v-4h2v4z\"/>\n",
              "    </g>\n",
              "</svg>\n",
              "  </button>\n",
              "\n",
              "<style>\n",
              "  .colab-df-quickchart {\n",
              "      --bg-color: #E8F0FE;\n",
              "      --fill-color: #1967D2;\n",
              "      --hover-bg-color: #E2EBFA;\n",
              "      --hover-fill-color: #174EA6;\n",
              "      --disabled-fill-color: #AAA;\n",
              "      --disabled-bg-color: #DDD;\n",
              "  }\n",
              "\n",
              "  [theme=dark] .colab-df-quickchart {\n",
              "      --bg-color: #3B4455;\n",
              "      --fill-color: #D2E3FC;\n",
              "      --hover-bg-color: #434B5C;\n",
              "      --hover-fill-color: #FFFFFF;\n",
              "      --disabled-bg-color: #3B4455;\n",
              "      --disabled-fill-color: #666;\n",
              "  }\n",
              "\n",
              "  .colab-df-quickchart {\n",
              "    background-color: var(--bg-color);\n",
              "    border: none;\n",
              "    border-radius: 50%;\n",
              "    cursor: pointer;\n",
              "    display: none;\n",
              "    fill: var(--fill-color);\n",
              "    height: 32px;\n",
              "    padding: 0;\n",
              "    width: 32px;\n",
              "  }\n",
              "\n",
              "  .colab-df-quickchart:hover {\n",
              "    background-color: var(--hover-bg-color);\n",
              "    box-shadow: 0 1px 2px rgba(60, 64, 67, 0.3), 0 1px 3px 1px rgba(60, 64, 67, 0.15);\n",
              "    fill: var(--button-hover-fill-color);\n",
              "  }\n",
              "\n",
              "  .colab-df-quickchart-complete:disabled,\n",
              "  .colab-df-quickchart-complete:disabled:hover {\n",
              "    background-color: var(--disabled-bg-color);\n",
              "    fill: var(--disabled-fill-color);\n",
              "    box-shadow: none;\n",
              "  }\n",
              "\n",
              "  .colab-df-spinner {\n",
              "    border: 2px solid var(--fill-color);\n",
              "    border-color: transparent;\n",
              "    border-bottom-color: var(--fill-color);\n",
              "    animation:\n",
              "      spin 1s steps(1) infinite;\n",
              "  }\n",
              "\n",
              "  @keyframes spin {\n",
              "    0% {\n",
              "      border-color: transparent;\n",
              "      border-bottom-color: var(--fill-color);\n",
              "      border-left-color: var(--fill-color);\n",
              "    }\n",
              "    20% {\n",
              "      border-color: transparent;\n",
              "      border-left-color: var(--fill-color);\n",
              "      border-top-color: var(--fill-color);\n",
              "    }\n",
              "    30% {\n",
              "      border-color: transparent;\n",
              "      border-left-color: var(--fill-color);\n",
              "      border-top-color: var(--fill-color);\n",
              "      border-right-color: var(--fill-color);\n",
              "    }\n",
              "    40% {\n",
              "      border-color: transparent;\n",
              "      border-right-color: var(--fill-color);\n",
              "      border-top-color: var(--fill-color);\n",
              "    }\n",
              "    60% {\n",
              "      border-color: transparent;\n",
              "      border-right-color: var(--fill-color);\n",
              "    }\n",
              "    80% {\n",
              "      border-color: transparent;\n",
              "      border-right-color: var(--fill-color);\n",
              "      border-bottom-color: var(--fill-color);\n",
              "    }\n",
              "    90% {\n",
              "      border-color: transparent;\n",
              "      border-bottom-color: var(--fill-color);\n",
              "    }\n",
              "  }\n",
              "</style>\n",
              "\n",
              "  <script>\n",
              "    async function quickchart(key) {\n",
              "      const quickchartButtonEl =\n",
              "        document.querySelector('#' + key + ' button');\n",
              "      quickchartButtonEl.disabled = true;  // To prevent multiple clicks.\n",
              "      quickchartButtonEl.classList.add('colab-df-spinner');\n",
              "      try {\n",
              "        const charts = await google.colab.kernel.invokeFunction(\n",
              "            'suggestCharts', [key], {});\n",
              "      } catch (error) {\n",
              "        console.error('Error during call to suggestCharts:', error);\n",
              "      }\n",
              "      quickchartButtonEl.classList.remove('colab-df-spinner');\n",
              "      quickchartButtonEl.classList.add('colab-df-quickchart-complete');\n",
              "    }\n",
              "    (() => {\n",
              "      let quickchartButtonEl =\n",
              "        document.querySelector('#df-83b6c245-d48c-4d55-978c-50b9cdd70a0f button');\n",
              "      quickchartButtonEl.style.display =\n",
              "        google.colab.kernel.accessAllowed ? 'block' : 'none';\n",
              "    })();\n",
              "  </script>\n",
              "</div>\n",
              "\n",
              "    </div>\n",
              "  </div>\n"
            ],
            "application/vnd.google.colaboratory.intrinsic+json": {
              "type": "dataframe",
              "summary": "{\n  \"name\": \"data\",\n  \"rows\": 8,\n  \"fields\": [\n    {\n      \"column\": \"Operating Temperature (\\u00b0C)\",\n      \"properties\": {\n        \"dtype\": \"number\",\n        \"std\": 318.8376945029438,\n        \"min\": 23.32869443376512,\n        \"max\": 1000.0,\n        \"num_unique_values\": 8,\n        \"samples\": [\n          119.162,\n          120.0,\n          1000.0\n        ],\n        \"semantic_type\": \"\",\n        \"description\": \"\"\n      }\n    },\n    {\n      \"column\": \"Operating Pressure (bar)\",\n      \"properties\": {\n        \"dtype\": \"number\",\n        \"std\": 348.1579018914776,\n        \"min\": 4.570896202288138,\n        \"max\": 1000.0,\n        \"num_unique_values\": 8,\n        \"samples\": [\n          17.401,\n          17.0,\n          1000.0\n        ],\n        \"semantic_type\": \"\",\n        \"description\": \"\"\n      }\n    },\n    {\n      \"column\": \"Flow Rate (m3/h)\",\n      \"properties\": {\n        \"dtype\": \"number\",\n        \"std\": 352.1542601411564,\n        \"min\": 0.8828891455008626,\n        \"max\": 1000.0,\n        \"num_unique_values\": 8,\n        \"samples\": [\n          4.4875,\n          4.5,\n          1000.0\n        ],\n        \"semantic_type\": \"\",\n        \"description\": \"\"\n      }\n    },\n    {\n      \"column\": \"Power Consumption (kW)\",\n      \"properties\": {\n        \"dtype\": \"number\",\n        \"std\": 334.2584796081439,\n        \"min\": 10.0,\n        \"max\": 1000.0,\n        \"num_unique_values\": 8,\n        \"samples\": [\n          64.362,\n          63.0,\n          1000.0\n        ],\n        \"semantic_type\": \"\",\n        \"description\": \"\"\n      }\n    },\n    {\n      \"column\": \"Speed (RPM)\",\n      \"properties\": {\n        \"dtype\": \"number\",\n        \"std\": 880.6711426507619,\n        \"min\": 454.16548072247826,\n        \"max\": 3100.0,\n        \"num_unique_values\": 8,\n        \"samples\": [\n          2294.398,\n          2303.5,\n          1000.0\n        ],\n        \"semantic_type\": \"\",\n        \"description\": \"\"\n      }\n    },\n    {\n      \"column\": \"Vibration Level (mm/s)\",\n      \"properties\": {\n        \"dtype\": \"number\",\n        \"std\": 353.3653917958649,\n        \"min\": 0.15,\n        \"max\": 1000.0,\n        \"num_unique_values\": 7,\n        \"samples\": [\n          1000.0,\n          0.58,\n          0.79\n        ],\n        \"semantic_type\": \"\",\n        \"description\": \"\"\n      }\n    },\n    {\n      \"column\": \"Wear & Tear (%)\",\n      \"properties\": {\n        \"dtype\": \"number\",\n        \"std\": 340.14287833153077,\n        \"min\": 2.0,\n        \"max\": 1000.0,\n        \"num_unique_values\": 8,\n        \"samples\": [\n          43.188,\n          44.0,\n          1000.0\n        ],\n        \"semantic_type\": \"\",\n        \"description\": \"\"\n      }\n    },\n    {\n      \"column\": \"Maintenance Interval (days)\",\n      \"properties\": {\n        \"dtype\": \"number\",\n        \"std\": 347.06045708304646,\n        \"min\": 1.0,\n        \"max\": 1000.0,\n        \"num_unique_values\": 8,\n        \"samples\": [\n          20.223,\n          19.5,\n          1000.0\n        ],\n        \"semantic_type\": \"\",\n        \"description\": \"\"\n      }\n    },\n    {\n      \"column\": \"Failure Probability (%)\",\n      \"properties\": {\n        \"dtype\": \"number\",\n        \"std\": 344.1420523375237,\n        \"min\": 1.0,\n        \"max\": 1000.0,\n        \"num_unique_values\": 8,\n        \"samples\": [\n          29.755,\n          28.0,\n          1000.0\n        ],\n        \"semantic_type\": \"\",\n        \"description\": \"\"\n      }\n    },\n    {\n      \"column\": \"Time Since Last Maintenance (days)\",\n      \"properties\": {\n        \"dtype\": \"number\",\n        \"std\": 345.6950475074314,\n        \"min\": 8.80464427224409,\n        \"max\": 1000.0,\n        \"num_unique_values\": 8,\n        \"samples\": [\n          25.069,\n          25.0,\n          1000.0\n        ],\n        \"semantic_type\": \"\",\n        \"description\": \"\"\n      }\n    },\n    {\n      \"column\": \"Ambient Temperature (\\u00b0C)\",\n      \"properties\": {\n        \"dtype\": \"number\",\n        \"std\": 345.27877700911824,\n        \"min\": 1.706073177119226,\n        \"max\": 1000.0,\n        \"num_unique_values\": 8,\n        \"samples\": [\n          27.515,\n          27.0,\n          1000.0\n        ],\n        \"semantic_type\": \"\",\n        \"description\": \"\"\n      }\n    },\n    {\n      \"column\": \"Humidity (%)\",\n      \"properties\": {\n        \"dtype\": \"number\",\n        \"std\": 336.2153228978388,\n        \"min\": 7.269792698962322,\n        \"max\": 1000.0,\n        \"num_unique_values\": 8,\n        \"samples\": [\n          57.842,\n          58.0,\n          1000.0\n        ],\n        \"semantic_type\": \"\",\n        \"description\": \"\"\n      }\n    }\n  ]\n}"
            }
          },
          "metadata": {},
          "execution_count": 28
        }
      ]
    },
    {
      "cell_type": "code",
      "source": [],
      "metadata": {
        "id": "U0qYvKesi96O"
      },
      "execution_count": null,
      "outputs": []
    },
    {
      "cell_type": "markdown",
      "source": [
        "Preprocessing"
      ],
      "metadata": {
        "id": "O2L84QKpkccO"
      }
    },
    {
      "cell_type": "code",
      "source": [
        "# Handle missing values\n",
        "# Filling missing categorical values with mode and numeric with median\n",
        "data.dropna(inplace=True)\n"
      ],
      "metadata": {
        "id": "BCnevEHZkdmE"
      },
      "execution_count": 29,
      "outputs": []
    },
    {
      "cell_type": "code",
      "source": [
        "data.info()"
      ],
      "metadata": {
        "colab": {
          "base_uri": "https://localhost:8080/"
        },
        "id": "8jJ4H4jOkmdT",
        "outputId": "e761d25c-9bff-4353-aa6b-320e699d8741"
      },
      "execution_count": 30,
      "outputs": [
        {
          "output_type": "stream",
          "name": "stdout",
          "text": [
            "<class 'pandas.core.frame.DataFrame'>\n",
            "Index: 857 entries, 1 to 999\n",
            "Data columns (total 21 columns):\n",
            " #   Column                              Non-Null Count  Dtype  \n",
            "---  ------                              --------------  -----  \n",
            " 0   Timestamp                           857 non-null    object \n",
            " 1   Equipment ID                        857 non-null    object \n",
            " 2   Equipment Type                      857 non-null    object \n",
            " 3   Location                            857 non-null    object \n",
            " 4   Operating Temperature (°C)          857 non-null    int64  \n",
            " 5   Operating Pressure (bar)            857 non-null    int64  \n",
            " 6   Flow Rate (m3/h)                    857 non-null    float64\n",
            " 7   Power Consumption (kW)              857 non-null    int64  \n",
            " 8   Speed (RPM)                         857 non-null    int64  \n",
            " 9   Vibration Level (mm/s)              857 non-null    float64\n",
            " 10  Health Status                       857 non-null    object \n",
            " 11  Fault Type                          857 non-null    object \n",
            " 12  Wear & Tear (%)                     857 non-null    int64  \n",
            " 13  Maintenance Interval (days)         857 non-null    int64  \n",
            " 14  Failure Probability (%)             857 non-null    int64  \n",
            " 15  Time Since Last Maintenance (days)  857 non-null    int64  \n",
            " 16  Predicted Failure Date              857 non-null    object \n",
            " 17  Failure Mode Prediction             857 non-null    object \n",
            " 18  Ambient Temperature (°C)            857 non-null    int64  \n",
            " 19  Humidity (%)                        857 non-null    int64  \n",
            " 20  Air Quality                         857 non-null    object \n",
            "dtypes: float64(2), int64(10), object(9)\n",
            "memory usage: 147.3+ KB\n"
          ]
        }
      ]
    },
    {
      "cell_type": "code",
      "source": [
        "# Encoding categorical features\n",
        "categorical_cols = ['Equipment Type', 'Location', 'Health Status', 'Fault Type',\n",
        "                    'Failure Mode Prediction', 'Air Quality']\n",
        "encoder = LabelEncoder()\n",
        "for col in categorical_cols:\n",
        "    data[col] = encoder.fit_transform(data[col])"
      ],
      "metadata": {
        "id": "-nbrTlmll0hS"
      },
      "execution_count": 31,
      "outputs": []
    },
    {
      "cell_type": "code",
      "source": [
        "# Droping non-relevant columns\n",
        "data_cleaned = data.drop(columns=['Timestamp', 'Equipment ID', 'Predicted Failure Date'])\n"
      ],
      "metadata": {
        "id": "-OMw1NgIl5PU"
      },
      "execution_count": 32,
      "outputs": []
    },
    {
      "cell_type": "code",
      "source": [
        "data_cleaned.info()"
      ],
      "metadata": {
        "id": "v23hBynDzFpU",
        "outputId": "8341f686-7911-45d9-9025-68cd4e2eb8c2",
        "colab": {
          "base_uri": "https://localhost:8080/"
        }
      },
      "execution_count": 41,
      "outputs": [
        {
          "output_type": "stream",
          "name": "stdout",
          "text": [
            "<class 'pandas.core.frame.DataFrame'>\n",
            "Index: 857 entries, 1 to 999\n",
            "Data columns (total 18 columns):\n",
            " #   Column                              Non-Null Count  Dtype  \n",
            "---  ------                              --------------  -----  \n",
            " 0   Equipment Type                      857 non-null    int64  \n",
            " 1   Location                            857 non-null    int64  \n",
            " 2   Operating Temperature (°C)          857 non-null    int64  \n",
            " 3   Operating Pressure (bar)            857 non-null    int64  \n",
            " 4   Flow Rate (m3/h)                    857 non-null    float64\n",
            " 5   Power Consumption (kW)              857 non-null    int64  \n",
            " 6   Speed (RPM)                         857 non-null    int64  \n",
            " 7   Vibration Level (mm/s)              857 non-null    float64\n",
            " 8   Health Status                       857 non-null    int64  \n",
            " 9   Fault Type                          857 non-null    int64  \n",
            " 10  Wear & Tear (%)                     857 non-null    int64  \n",
            " 11  Maintenance Interval (days)         857 non-null    int64  \n",
            " 12  Failure Probability (%)             857 non-null    int64  \n",
            " 13  Time Since Last Maintenance (days)  857 non-null    int64  \n",
            " 14  Failure Mode Prediction             857 non-null    int64  \n",
            " 15  Ambient Temperature (°C)            857 non-null    int64  \n",
            " 16  Humidity (%)                        857 non-null    int64  \n",
            " 17  Air Quality                         857 non-null    int64  \n",
            "dtypes: float64(2), int64(16)\n",
            "memory usage: 127.2 KB\n"
          ]
        }
      ]
    },
    {
      "cell_type": "markdown",
      "source": [
        "Checking all unique values"
      ],
      "metadata": {
        "id": "MUA4rDXs4FVD"
      }
    },
    {
      "cell_type": "code",
      "source": [
        "for col in data_cleaned.columns:\n",
        "    print(f\"Unique values in column '{col}':\")\n",
        "    print(data[col].unique())\n",
        "    print()"
      ],
      "metadata": {
        "id": "GFxJUqPPzUNa",
        "outputId": "c00f91c9-f768-4229-a640-cc04686b0b50",
        "colab": {
          "base_uri": "https://localhost:8080/"
        }
      },
      "execution_count": 42,
      "outputs": [
        {
          "output_type": "stream",
          "name": "stdout",
          "text": [
            "Unique values in column 'Equipment Type':\n",
            "[0 1 3 2 4]\n",
            "\n",
            "Unique values in column 'Location':\n",
            "[3 2 1 0 4]\n",
            "\n",
            "Unique values in column 'Operating Temperature (°C)':\n",
            "[113 116 126 107 140 139 118 154 150 158 111 132  84 124  86  81 160 100\n",
            " 147 144 153 134 159 130 115 120  92 135 131 101 103  99 121 108 129  80\n",
            " 151 156 141  95  82 106 136  96  89 125  98  83 142 128 112  91 123 138\n",
            " 104  88 105 114  97 137 127 119  93  85 110 149 109  87 122 148 145 133\n",
            " 157 152  90 102 155  94 117 143 146]\n",
            "\n",
            "Unique values in column 'Operating Pressure (bar)':\n",
            "[15 17 21 19 23 10 22 18 12 20 11 14 25 16 24 13]\n",
            "\n",
            "Unique values in column 'Flow Rate (m3/h)':\n",
            "[3.5 5.  4.  4.8 4.3 5.2 4.7 3.3 5.5 5.7 3.6 5.9 4.9 3.8 4.2 5.1 5.6 4.1\n",
            " 4.4 5.4 4.6 3.7 6.  4.5 3.9 3.4 3.  5.8 3.1 3.2 2.9 5.3]\n",
            "\n",
            "Unique values in column 'Power Consumption (kW)':\n",
            "[ 74  51  59  79  80  66  94 110  11  81  67  24  76  38  27  89  25  71\n",
            "  78  57  88  93 111  65  43 116  17  34  61  58  70  87  69  96  99  95\n",
            "  35 104 107  68 102 115  50  56 101  63  49  12  54  82  15  98  10  22\n",
            "  23 103  37  13  39  45 106  41  86  14  28 108 105  26  31  72 113 120\n",
            "  91  40  77  60  48  83  46 112 109  19  64  44  30  21  18  32  16  36\n",
            "  33  90 100  62 118  29 114  85  75  73  47  52  53  55  92 119  97  42\n",
            "  84 117  20]\n",
            "\n",
            "Unique values in column 'Speed (RPM)':\n",
            "[2476 1847 1914 2335 2778 2822 2110 2308 2441 2845 1832 1773 2936 2890\n",
            " 2853 2687 1826 2966 1561 1507 2786 2629 2731 1671 2576 3097 1637 1983\n",
            " 2618 2932 2439 1961 1661 1772 2385 2313 2742 2155 2266 2204 1586 2957\n",
            " 2760 1505 2160 1857 1663 2060 2049 2209 2584 2342 2030 2699 1511 2452\n",
            " 2505 2552 2429 2898 2397 2649 1758 2145 2794 1597 2664 2672 2993 2580\n",
            " 2192 1551 1670 2164 1692 1783 2531 2717 2631 2519 2154 1589 2567 2327\n",
            " 1781 2288 1992 2489 1972 2737 2241 1980 1590 2369 1523 1642 2532 2319\n",
            " 2196 2236 1881 2304 1845 1985 3000 2826 3100 2504 2480 2265 2981 2339\n",
            " 2073 1840 2545 1918 1821 1660 2372 1575 1835 2942 2454 2892 2541 2166\n",
            " 2382 1578 2831 2343 1654 2885 1592 2539 2744 2902 2525 1602 2527 1678\n",
            " 1846 1820 3017 2014 2189 2798 1815 1912 3063 2467 3082 2568 3015 2414\n",
            " 2761 1749 2111 2040 2242 2575 2518 1990 1641 1576 2572 1599 1700 1624\n",
            " 1696 2131 1515 2929 2975 2320 2367 1776 1799 2092 2088 2499 1905 2863\n",
            " 1915 2301 2604 1979 2842 2300 2766 1687 2682 2247 3012 2386 1878 2938\n",
            " 2508 2670 2279 1788 2590 2336 2346 1953 2081 1871 1883 1930 3014 2807\n",
            " 3003 1759 2271 2537 2768 1698 1839 1998 2716 2394 2829 2333 1733 2782\n",
            " 3034 2743 2340 1666 1672 2317 1512 1614 1688 1876 1760 3052 1500 2191\n",
            " 2172 1885 2662 2197 3048 2873 1900 2194 2599 2622 3067 2903 3022 2262\n",
            " 2839 1591 2228 2169 1825 2161 2803 1596 3024 1675 1822 2535 2943 2738\n",
            " 1757 2471 2002 2427 1761 2998 1812 2214 1546 2886 1726 2690 2869 1927\n",
            " 1798 3046 2201 1560 1656 2415 2563 2582 3056 2227 2260 2453 2729 2358\n",
            " 2328 1896 3083 2804 2657 2048 2211 2031 1668 2594 3027 1619 2600 1893\n",
            " 2097 1550 2165 2963 2756 1570 1973 2213 2071 2316 2069 2570 2275 2150\n",
            " 2770 2647 1913 2130 2054 2381 2152 2118 1906 1861 2149 2614 2294 2990\n",
            " 2754 2637 1888 2927 2058 2436 2802 2625 2035 2564 2684 2323 2620 1665\n",
            " 2232 1680 2947 2529 2206 2026 1571 2714 2774 2514 2458 2314 3078 2522\n",
            " 2557 2779 3008 3088 2424 1904 3047 2363 2516 2070 1782 1780 2451 2159\n",
            " 2463 2141 2603 2856 2125 2673 3036 2677 2718 3009 2202 1595 1547 2041\n",
            " 1553 2050 1931 2286 2219 2852 1842 2725 2456 2513 2168 2303 3030 2091\n",
            " 1748 2987 2151 1639 1721 2748 1514 2569 2428 2616 1838 2077 1854 1924\n",
            " 2880 1903 1529 1583 1958 2968 2098 2598 1929 2796 2036 3035 2790 2033\n",
            " 2876 2282 2101 2817 3071 2127 2683 1601 2478 1809 2001 2085 2370 1791\n",
            " 2459 2248 1737 2345 1879 1999 1875 2239 1910 2555 1719 2962 2991 1860\n",
            " 2799 1769 2326 2935 2183 1626 2641 2910 2820 1917 3099 2965 2238 1734\n",
            " 2246 2667 2698 2438 2896 1705 1585 2065 2138 2560 1818 2989 1805 2875\n",
            " 2602 2341 1833 1829 2828 1853 1574 2974 2767 2465 2435 2538 2665 2460\n",
            " 1608 1774 2520 2834 1755 2264 1887 1967 3065 2772 2391 2640 1631 2044\n",
            " 1725 2573 3031 2222 1862 2816 2843 2224 2231 2666 1964 2404 3042 1580\n",
            " 2021 3062 2922 2562 2137 2574 2447 2268 2496 1952 1527 2037 1657 2660\n",
            " 2651 2488 2483 2746 2674 2730 1545 2245 1713 2979 2170 1517 1611 2878\n",
            " 1828 2809 2007 1794 1636 1919 1939 2805 2841 2648 2364 1532 3028 1739\n",
            " 2720 2129 2324 1723 1689 1837 2777 1667 2108 1778 2440 2639 1754 1750\n",
            " 2638 2881 3020 2884 2186 1712 2173 2656 1957 2705 1659 1789 2220 2038\n",
            " 2912 1824 3019 2251 2356 1817 2581 2678 1616 3077 2479 1974 2825 2733\n",
            " 1751 2589 1568 2056 2953 3059 2686 2446 2752 2184 2010 2203 3032 1981\n",
            " 2511 1991 2102 2051 2344 2330 2827 1732 1932 2233 2950 1738 2895 2986\n",
            " 2094 1702 1676 2407 2401 2292 1923 2393 2027 1898]\n",
            "\n",
            "Unique values in column 'Vibration Level (mm/s)':\n",
            "[0.92 0.56 0.39 0.32 0.76 0.94 0.72 0.22 0.21 0.58 0.61 0.99 0.4  0.74\n",
            " 0.27 0.35 0.84 0.44 0.77 0.25 0.36 0.98 0.26 0.63 0.8  0.97 0.89 0.2\n",
            " 0.54 0.47 0.45 0.33 0.17 0.96 0.73 0.48 0.82 0.34 0.18 0.57 0.78 0.43\n",
            " 0.5  0.16 0.75 0.42 0.91 0.64 0.86 0.41 0.87 0.62 0.81 0.23 0.24 0.69\n",
            " 0.85 0.95 0.52 0.55 0.15 0.79 0.88 0.28 0.67 0.3  0.37 0.7  0.29 0.19\n",
            " 0.6  0.66 0.65 0.46 0.68 0.51 1.   0.38 0.71 0.49 0.83 0.9  0.31 0.59\n",
            " 0.93 0.53]\n",
            "\n",
            "Unique values in column 'Health Status':\n",
            "[2 0 1]\n",
            "\n",
            "Unique values in column 'Fault Type':\n",
            "[1 0 4 5 2 3]\n",
            "\n",
            "Unique values in column 'Wear & Tear (%)':\n",
            "[79 37 77 10 63 83 17 35 46 57 15 31 12 54 13 51 40  6 48  5 60 64  9 56\n",
            " 22  3 33 21 67 11 78 68 18 52 26 65  2 19 29 70 34 27 72 20 80 47 50 82\n",
            "  7 66 55 43 39 49 44 81  8 85  4 84 36 41 74 16 23 24 45 25 53 62 59 69\n",
            " 14 75 38 76 42 28 58 30 61 32 73 71]\n",
            "\n",
            "Unique values in column 'Maintenance Interval (days)':\n",
            "[28  9 38 20 19 32 39 25 29 27 16 18 34 15  3 35 33  8  5 24 23 40 17  1\n",
            " 13 14 12 26 37  2 30  6 36 22  4 21 31 10  7 11]\n",
            "\n",
            "Unique values in column 'Failure Probability (%)':\n",
            "[28 58 19 23 34 45 38 42 18  4 56 13 47 21 39  1 54  9 11 50 43 14 22 15\n",
            " 29 26 51 48 59 12 27  3  7 53 32 30 35 44 52 57 25 10 31 55 16 36 40  8\n",
            " 33 24 17  2 41 46 37  6  5 49 20 60]\n",
            "\n",
            "Unique values in column 'Time Since Last Maintenance (days)':\n",
            "[39 27 17 25 19 22 38 13 14 16 21 36 20 10 11 32 29 24 31 26 28 30 40 23\n",
            " 18 37 12 15 35 34 33]\n",
            "\n",
            "Unique values in column 'Failure Mode Prediction':\n",
            "[3 2 1 4 0]\n",
            "\n",
            "Unique values in column 'Ambient Temperature (°C)':\n",
            "[28 26 29 25 30 27]\n",
            "\n",
            "Unique values in column 'Humidity (%)':\n",
            "[45 60 53 49 51 59 61 54 66 52 56 50 70 58 62 64 57 47 69 55 65 67 63 48\n",
            " 68 46]\n",
            "\n",
            "Unique values in column 'Air Quality':\n",
            "[0 2 1]\n",
            "\n"
          ]
        }
      ]
    },
    {
      "cell_type": "code",
      "source": [
        "# Splitting data into features and target variable\n",
        "X = data_cleaned.drop(columns=['Failure Probability (%)'])\n",
        "y = data_cleaned['Failure Probability (%)']\n"
      ],
      "metadata": {
        "id": "k3yFpiVjl9zR"
      },
      "execution_count": 33,
      "outputs": []
    },
    {
      "cell_type": "code",
      "source": [
        "# Train-test split\n",
        "X_train, X_test, y_train, y_test = train_test_split(X, y, test_size=0.2, random_state=42)\n",
        "\n",
        "# Standardize the features\n",
        "scaler = StandardScaler()\n",
        "X_train = scaler.fit_transform(X_train)\n",
        "X_test = scaler.transform(X_test)"
      ],
      "metadata": {
        "id": "ubN8ssnInQt-"
      },
      "execution_count": 34,
      "outputs": []
    },
    {
      "cell_type": "code",
      "source": [
        "# 1. Random Forest Regressor\n",
        "rf_model = RandomForestRegressor(random_state=42)\n",
        "rf_model.fit(X_train, y_train)\n",
        "rf_y_pred = rf_model.predict(X_test)\n",
        "rf_mse = mean_squared_error(y_test, rf_y_pred)\n",
        "rf_r2 = r2_score(y_test, rf_y_pred)\n"
      ],
      "metadata": {
        "id": "GK5cZCEgncC8"
      },
      "execution_count": 35,
      "outputs": []
    },
    {
      "cell_type": "code",
      "source": [
        "print(\"Random Forest Regressor Results\")\n",
        "print(\"MSE:\", rf_mse)\n",
        "print(\"R2 Score:\", rf_r2)"
      ],
      "metadata": {
        "colab": {
          "base_uri": "https://localhost:8080/"
        },
        "id": "jUu8b-QXnebM",
        "outputId": "df73fcc6-d14c-4a2d-a013-dec55694ee86"
      },
      "execution_count": 36,
      "outputs": [
        {
          "output_type": "stream",
          "name": "stdout",
          "text": [
            "Random Forest Regressor Results\n",
            "MSE: 326.6756569767442\n",
            "R2 Score: -0.08953622607726519\n"
          ]
        }
      ]
    },
    {
      "cell_type": "code",
      "source": [
        "# 2. XGBoost Regressor\n",
        "xgb_model = XGBRegressor(random_state=42)\n",
        "xgb_model.fit(X_train, y_train)\n",
        "xgb_y_pred = xgb_model.predict(X_test)\n",
        "xgb_mse = mean_squared_error(y_test, xgb_y_pred)\n",
        "xgb_r2 = r2_score(y_test, xgb_y_pred)\n",
        "\n",
        "print(\"XGBoost Regressor Results\")\n",
        "print(\"MSE:\", xgb_mse)\n",
        "print(\"R2 Score:\", xgb_r2)\n"
      ],
      "metadata": {
        "colab": {
          "base_uri": "https://localhost:8080/"
        },
        "id": "kiLLpm5YnhF1",
        "outputId": "4ca7c7ba-b95b-42ac-fca5-dfacd38756f0"
      },
      "execution_count": 37,
      "outputs": [
        {
          "output_type": "stream",
          "name": "stdout",
          "text": [
            "XGBoost Regressor Results\n",
            "MSE: 393.74786376953125\n",
            "R2 Score: -0.31323695182800293\n"
          ]
        }
      ]
    },
    {
      "cell_type": "code",
      "source": [
        "# Summary of results\n",
        "print(\"Summary of Model Performances:\")\n",
        "print(f\"Random Forest Regressor - MSE: {rf_mse}, R2 Score: {rf_r2}\")\n",
        "print(f\"XGBoost Regressor - MSE: {xgb_mse}, R2 Score: {xgb_r2}\")"
      ],
      "metadata": {
        "colab": {
          "base_uri": "https://localhost:8080/"
        },
        "id": "nzF-cZbJnlnN",
        "outputId": "f3585072-a439-472e-c0b7-0cf0bc089cb8"
      },
      "execution_count": 38,
      "outputs": [
        {
          "output_type": "stream",
          "name": "stdout",
          "text": [
            "Summary of Model Performances:\n",
            "Random Forest Regressor - MSE: 326.6756569767442, R2 Score: -0.08953622607726519\n",
            "XGBoost Regressor - MSE: 393.74786376953125, R2 Score: -0.31323695182800293\n"
          ]
        }
      ]
    },
    {
      "cell_type": "code",
      "source": [
        "import joblib\n",
        "\n",
        "# Save the trained XGBoost model to a file\n",
        "model_filename = 'xgb_regressor_model.joblib'\n",
        "joblib.dump(xgb_model, model_filename)\n",
        "\n",
        "print(f\"Model saved to {model_filename}\")\n"
      ],
      "metadata": {
        "colab": {
          "base_uri": "https://localhost:8080/"
        },
        "id": "1IbG__YdnpJx",
        "outputId": "bdad6415-39a4-44f0-d71d-eade54ff3d71"
      },
      "execution_count": 39,
      "outputs": [
        {
          "output_type": "stream",
          "name": "stdout",
          "text": [
            "Model saved to xgb_regressor_model.joblib\n"
          ]
        }
      ]
    },
    {
      "cell_type": "code",
      "source": [
        "# Save the preprocessing objects\n",
        "joblib.dump(encoder, 'label_encoder.joblib')\n",
        "joblib.dump(scaler, 'scaler.joblib')\n"
      ],
      "metadata": {
        "id": "Ah2P1SpZvZOO",
        "outputId": "c2925a39-4a56-4d28-9bf6-5abd96bf857e",
        "colab": {
          "base_uri": "https://localhost:8080/"
        }
      },
      "execution_count": 40,
      "outputs": [
        {
          "output_type": "execute_result",
          "data": {
            "text/plain": [
              "['scaler.joblib']"
            ]
          },
          "metadata": {},
          "execution_count": 40
        }
      ]
    },
    {
      "cell_type": "code",
      "source": [],
      "metadata": {
        "id": "koNk447QvZEn"
      },
      "execution_count": null,
      "outputs": []
    },
    {
      "cell_type": "code",
      "source": [
        "import pandas as pd\n",
        "import numpy as np\n",
        "from sklearn.model_selection import train_test_split\n",
        "from sklearn.preprocessing import LabelEncoder, StandardScaler\n",
        "from sklearn.metrics import mean_squared_error, r2_score\n",
        "from tensorflow.keras.models import Sequential\n",
        "from tensorflow.keras.layers import Dense, Dropout\n",
        "\n",
        "# Load the data\n",
        "file_path = '/content/drive/MyDrive/DATASETS/MachineData02.csv'\n",
        "data = pd.read_csv(file_path)\n",
        "\n",
        "# Handle missing values\n",
        "# Remove rows with missing values\n",
        "data.dropna(inplace=True)\n",
        "\n",
        "# Encode categorical features\n",
        "categorical_cols = ['Equipment Type', 'Location', 'Health Status', 'Fault Type',\n",
        "                    'Failure Mode Prediction', 'Air Quality']\n",
        "encoder = LabelEncoder()\n",
        "for col in categorical_cols:\n",
        "    data[col] = encoder.fit_transform(data[col])\n",
        "\n",
        "# Drop non-relevant columns\n",
        "data_cleaned = data.drop(columns=['Timestamp', 'Equipment ID', 'Predicted Failure Date'])\n",
        "\n",
        "# Splitting data into features and target variable\n",
        "X = data_cleaned.drop(columns=['Failure Probability (%)'])\n",
        "y = data_cleaned['Failure Probability (%)']\n",
        "\n",
        "# Train-test split\n",
        "X_train, X_test, y_train, y_test = train_test_split(X, y, test_size=0.2, random_state=42)\n",
        "\n",
        "# Standardize the features\n",
        "scaler = StandardScaler()\n",
        "X_train = scaler.fit_transform(X_train)\n",
        "X_test = scaler.transform(X_test)\n",
        "\n",
        "# Neural Network Model\n",
        "nn_model = Sequential()\n",
        "nn_model.add(Dense(128, input_dim=X_train.shape[1], activation='relu'))\n",
        "nn_model.add(Dropout(0.2))\n",
        "nn_model.add(Dense(64, activation='relu'))\n",
        "nn_model.add(Dropout(0.2))\n",
        "nn_model.add(Dense(1, activation='linear'))\n",
        "\n",
        "nn_model.compile(optimizer='adam', loss='mean_squared_error', metrics=['mse'])\n",
        "\n",
        "# Train the model\n",
        "history = nn_model.fit(X_train, y_train, validation_split=0.2, epochs=50, batch_size=32, verbose=1)\n",
        "\n",
        "# Evaluate the model\n",
        "nn_y_pred = nn_model.predict(X_test)\n",
        "nn_mse = mean_squared_error(y_test, nn_y_pred)\n",
        "nn_r2 = r2_score(y_test, nn_y_pred)\n",
        "\n",
        "print(\"Neural Network Regressor Results\")\n",
        "print(\"MSE:\", nn_mse)\n",
        "print(\"R2 Score:\", nn_r2)\n",
        "\n",
        "# Summary of results\n",
        "print(\"Summary of Model Performances:\")\n",
        "print(f\"Neural Network Regressor - MSE: {nn_mse}, R2 Score: {nn_r2}\")\n"
      ],
      "metadata": {
        "colab": {
          "base_uri": "https://localhost:8080/"
        },
        "id": "RB-ESdBin8Ao",
        "outputId": "07148f25-5ea6-43c8-cfe1-d1edd6105166"
      },
      "execution_count": 23,
      "outputs": [
        {
          "output_type": "stream",
          "name": "stdout",
          "text": [
            "Epoch 1/50\n"
          ]
        },
        {
          "output_type": "stream",
          "name": "stderr",
          "text": [
            "/usr/local/lib/python3.10/dist-packages/keras/src/layers/core/dense.py:87: UserWarning: Do not pass an `input_shape`/`input_dim` argument to a layer. When using Sequential models, prefer using an `Input(shape)` object as the first layer in the model instead.\n",
            "  super().__init__(activity_regularizer=activity_regularizer, **kwargs)\n"
          ]
        },
        {
          "output_type": "stream",
          "name": "stdout",
          "text": [
            "\u001b[1m18/18\u001b[0m \u001b[32m━━━━━━━━━━━━━━━━━━━━\u001b[0m\u001b[37m\u001b[0m \u001b[1m2s\u001b[0m 13ms/step - loss: 1109.6636 - mse: 1109.6636 - val_loss: 1069.3274 - val_mse: 1069.3274\n",
            "Epoch 2/50\n",
            "\u001b[1m18/18\u001b[0m \u001b[32m━━━━━━━━━━━━━━━━━━━━\u001b[0m\u001b[37m\u001b[0m \u001b[1m0s\u001b[0m 4ms/step - loss: 1003.1123 - mse: 1003.1123 - val_loss: 884.6292 - val_mse: 884.6292\n",
            "Epoch 3/50\n",
            "\u001b[1m18/18\u001b[0m \u001b[32m━━━━━━━━━━━━━━━━━━━━\u001b[0m\u001b[37m\u001b[0m \u001b[1m0s\u001b[0m 6ms/step - loss: 779.6188 - mse: 779.6188 - val_loss: 651.1387 - val_mse: 651.1387\n",
            "Epoch 4/50\n",
            "\u001b[1m18/18\u001b[0m \u001b[32m━━━━━━━━━━━━━━━━━━━━\u001b[0m\u001b[37m\u001b[0m \u001b[1m0s\u001b[0m 5ms/step - loss: 589.2731 - mse: 589.2731 - val_loss: 446.0966 - val_mse: 446.0966\n",
            "Epoch 5/50\n",
            "\u001b[1m18/18\u001b[0m \u001b[32m━━━━━━━━━━━━━━━━━━━━\u001b[0m\u001b[37m\u001b[0m \u001b[1m0s\u001b[0m 4ms/step - loss: 376.9231 - mse: 376.9231 - val_loss: 359.8805 - val_mse: 359.8805\n",
            "Epoch 6/50\n",
            "\u001b[1m18/18\u001b[0m \u001b[32m━━━━━━━━━━━━━━━━━━━━\u001b[0m\u001b[37m\u001b[0m \u001b[1m0s\u001b[0m 5ms/step - loss: 311.9138 - mse: 311.9138 - val_loss: 350.4783 - val_mse: 350.4783\n",
            "Epoch 7/50\n",
            "\u001b[1m18/18\u001b[0m \u001b[32m━━━━━━━━━━━━━━━━━━━━\u001b[0m\u001b[37m\u001b[0m \u001b[1m0s\u001b[0m 4ms/step - loss: 300.5733 - mse: 300.5733 - val_loss: 350.2033 - val_mse: 350.2033\n",
            "Epoch 8/50\n",
            "\u001b[1m18/18\u001b[0m \u001b[32m━━━━━━━━━━━━━━━━━━━━\u001b[0m\u001b[37m\u001b[0m \u001b[1m0s\u001b[0m 5ms/step - loss: 303.4104 - mse: 303.4104 - val_loss: 349.4023 - val_mse: 349.4023\n",
            "Epoch 9/50\n",
            "\u001b[1m18/18\u001b[0m \u001b[32m━━━━━━━━━━━━━━━━━━━━\u001b[0m\u001b[37m\u001b[0m \u001b[1m0s\u001b[0m 4ms/step - loss: 295.2495 - mse: 295.2495 - val_loss: 346.8850 - val_mse: 346.8850\n",
            "Epoch 10/50\n",
            "\u001b[1m18/18\u001b[0m \u001b[32m━━━━━━━━━━━━━━━━━━━━\u001b[0m\u001b[37m\u001b[0m \u001b[1m0s\u001b[0m 5ms/step - loss: 287.4893 - mse: 287.4893 - val_loss: 347.7381 - val_mse: 347.7381\n",
            "Epoch 11/50\n",
            "\u001b[1m18/18\u001b[0m \u001b[32m━━━━━━━━━━━━━━━━━━━━\u001b[0m\u001b[37m\u001b[0m \u001b[1m0s\u001b[0m 6ms/step - loss: 297.0361 - mse: 297.0361 - val_loss: 347.8558 - val_mse: 347.8558\n",
            "Epoch 12/50\n",
            "\u001b[1m18/18\u001b[0m \u001b[32m━━━━━━━━━━━━━━━━━━━━\u001b[0m\u001b[37m\u001b[0m \u001b[1m0s\u001b[0m 5ms/step - loss: 277.4478 - mse: 277.4478 - val_loss: 349.4129 - val_mse: 349.4129\n",
            "Epoch 13/50\n",
            "\u001b[1m18/18\u001b[0m \u001b[32m━━━━━━━━━━━━━━━━━━━━\u001b[0m\u001b[37m\u001b[0m \u001b[1m0s\u001b[0m 4ms/step - loss: 287.7392 - mse: 287.7392 - val_loss: 346.9612 - val_mse: 346.9612\n",
            "Epoch 14/50\n",
            "\u001b[1m18/18\u001b[0m \u001b[32m━━━━━━━━━━━━━━━━━━━━\u001b[0m\u001b[37m\u001b[0m \u001b[1m0s\u001b[0m 4ms/step - loss: 285.2107 - mse: 285.2107 - val_loss: 347.0453 - val_mse: 347.0453\n",
            "Epoch 15/50\n",
            "\u001b[1m18/18\u001b[0m \u001b[32m━━━━━━━━━━━━━━━━━━━━\u001b[0m\u001b[37m\u001b[0m \u001b[1m0s\u001b[0m 4ms/step - loss: 259.8489 - mse: 259.8489 - val_loss: 346.5930 - val_mse: 346.5930\n",
            "Epoch 16/50\n",
            "\u001b[1m18/18\u001b[0m \u001b[32m━━━━━━━━━━━━━━━━━━━━\u001b[0m\u001b[37m\u001b[0m \u001b[1m0s\u001b[0m 5ms/step - loss: 274.7677 - mse: 274.7677 - val_loss: 345.5620 - val_mse: 345.5620\n",
            "Epoch 17/50\n",
            "\u001b[1m18/18\u001b[0m \u001b[32m━━━━━━━━━━━━━━━━━━━━\u001b[0m\u001b[37m\u001b[0m \u001b[1m0s\u001b[0m 4ms/step - loss: 264.5195 - mse: 264.5195 - val_loss: 345.9903 - val_mse: 345.9903\n",
            "Epoch 18/50\n",
            "\u001b[1m18/18\u001b[0m \u001b[32m━━━━━━━━━━━━━━━━━━━━\u001b[0m\u001b[37m\u001b[0m \u001b[1m0s\u001b[0m 5ms/step - loss: 270.9294 - mse: 270.9294 - val_loss: 347.7875 - val_mse: 347.7875\n",
            "Epoch 19/50\n",
            "\u001b[1m18/18\u001b[0m \u001b[32m━━━━━━━━━━━━━━━━━━━━\u001b[0m\u001b[37m\u001b[0m \u001b[1m0s\u001b[0m 5ms/step - loss: 282.8709 - mse: 282.8709 - val_loss: 347.1410 - val_mse: 347.1410\n",
            "Epoch 20/50\n",
            "\u001b[1m18/18\u001b[0m \u001b[32m━━━━━━━━━━━━━━━━━━━━\u001b[0m\u001b[37m\u001b[0m \u001b[1m0s\u001b[0m 6ms/step - loss: 273.6658 - mse: 273.6658 - val_loss: 347.9270 - val_mse: 347.9270\n",
            "Epoch 21/50\n",
            "\u001b[1m18/18\u001b[0m \u001b[32m━━━━━━━━━━━━━━━━━━━━\u001b[0m\u001b[37m\u001b[0m \u001b[1m0s\u001b[0m 7ms/step - loss: 263.1078 - mse: 263.1078 - val_loss: 350.5490 - val_mse: 350.5490\n",
            "Epoch 22/50\n",
            "\u001b[1m18/18\u001b[0m \u001b[32m━━━━━━━━━━━━━━━━━━━━\u001b[0m\u001b[37m\u001b[0m \u001b[1m0s\u001b[0m 6ms/step - loss: 285.3822 - mse: 285.3822 - val_loss: 350.9908 - val_mse: 350.9908\n",
            "Epoch 23/50\n",
            "\u001b[1m18/18\u001b[0m \u001b[32m━━━━━━━━━━━━━━━━━━━━\u001b[0m\u001b[37m\u001b[0m \u001b[1m0s\u001b[0m 7ms/step - loss: 269.1786 - mse: 269.1786 - val_loss: 350.9121 - val_mse: 350.9121\n",
            "Epoch 24/50\n",
            "\u001b[1m18/18\u001b[0m \u001b[32m━━━━━━━━━━━━━━━━━━━━\u001b[0m\u001b[37m\u001b[0m \u001b[1m0s\u001b[0m 7ms/step - loss: 253.1136 - mse: 253.1136 - val_loss: 351.6111 - val_mse: 351.6111\n",
            "Epoch 25/50\n",
            "\u001b[1m18/18\u001b[0m \u001b[32m━━━━━━━━━━━━━━━━━━━━\u001b[0m\u001b[37m\u001b[0m \u001b[1m0s\u001b[0m 7ms/step - loss: 284.6612 - mse: 284.6612 - val_loss: 351.1775 - val_mse: 351.1775\n",
            "Epoch 26/50\n",
            "\u001b[1m18/18\u001b[0m \u001b[32m━━━━━━━━━━━━━━━━━━━━\u001b[0m\u001b[37m\u001b[0m \u001b[1m0s\u001b[0m 6ms/step - loss: 249.3993 - mse: 249.3993 - val_loss: 352.5874 - val_mse: 352.5874\n",
            "Epoch 27/50\n",
            "\u001b[1m18/18\u001b[0m \u001b[32m━━━━━━━━━━━━━━━━━━━━\u001b[0m\u001b[37m\u001b[0m \u001b[1m0s\u001b[0m 7ms/step - loss: 249.2240 - mse: 249.2240 - val_loss: 351.9033 - val_mse: 351.9033\n",
            "Epoch 28/50\n",
            "\u001b[1m18/18\u001b[0m \u001b[32m━━━━━━━━━━━━━━━━━━━━\u001b[0m\u001b[37m\u001b[0m \u001b[1m0s\u001b[0m 7ms/step - loss: 288.1462 - mse: 288.1462 - val_loss: 349.4492 - val_mse: 349.4492\n",
            "Epoch 29/50\n",
            "\u001b[1m18/18\u001b[0m \u001b[32m━━━━━━━━━━━━━━━━━━━━\u001b[0m\u001b[37m\u001b[0m \u001b[1m0s\u001b[0m 7ms/step - loss: 280.4581 - mse: 280.4581 - val_loss: 350.2177 - val_mse: 350.2177\n",
            "Epoch 30/50\n",
            "\u001b[1m18/18\u001b[0m \u001b[32m━━━━━━━━━━━━━━━━━━━━\u001b[0m\u001b[37m\u001b[0m \u001b[1m0s\u001b[0m 7ms/step - loss: 251.7991 - mse: 251.7991 - val_loss: 350.3800 - val_mse: 350.3800\n",
            "Epoch 31/50\n",
            "\u001b[1m18/18\u001b[0m \u001b[32m━━━━━━━━━━━━━━━━━━━━\u001b[0m\u001b[37m\u001b[0m \u001b[1m0s\u001b[0m 8ms/step - loss: 257.3648 - mse: 257.3648 - val_loss: 352.5891 - val_mse: 352.5891\n",
            "Epoch 32/50\n",
            "\u001b[1m18/18\u001b[0m \u001b[32m━━━━━━━━━━━━━━━━━━━━\u001b[0m\u001b[37m\u001b[0m \u001b[1m0s\u001b[0m 7ms/step - loss: 259.0467 - mse: 259.0467 - val_loss: 353.9156 - val_mse: 353.9156\n",
            "Epoch 33/50\n",
            "\u001b[1m18/18\u001b[0m \u001b[32m━━━━━━━━━━━━━━━━━━━━\u001b[0m\u001b[37m\u001b[0m \u001b[1m0s\u001b[0m 6ms/step - loss: 269.4915 - mse: 269.4915 - val_loss: 356.0096 - val_mse: 356.0096\n",
            "Epoch 34/50\n",
            "\u001b[1m18/18\u001b[0m \u001b[32m━━━━━━━━━━━━━━━━━━━━\u001b[0m\u001b[37m\u001b[0m \u001b[1m0s\u001b[0m 7ms/step - loss: 249.4897 - mse: 249.4897 - val_loss: 357.3058 - val_mse: 357.3058\n",
            "Epoch 35/50\n",
            "\u001b[1m18/18\u001b[0m \u001b[32m━━━━━━━━━━━━━━━━━━━━\u001b[0m\u001b[37m\u001b[0m \u001b[1m0s\u001b[0m 4ms/step - loss: 270.5352 - mse: 270.5352 - val_loss: 356.2148 - val_mse: 356.2148\n",
            "Epoch 36/50\n",
            "\u001b[1m18/18\u001b[0m \u001b[32m━━━━━━━━━━━━━━━━━━━━\u001b[0m\u001b[37m\u001b[0m \u001b[1m0s\u001b[0m 5ms/step - loss: 257.8091 - mse: 257.8091 - val_loss: 354.8109 - val_mse: 354.8109\n",
            "Epoch 37/50\n",
            "\u001b[1m18/18\u001b[0m \u001b[32m━━━━━━━━━━━━━━━━━━━━\u001b[0m\u001b[37m\u001b[0m \u001b[1m0s\u001b[0m 4ms/step - loss: 258.5216 - mse: 258.5216 - val_loss: 357.0898 - val_mse: 357.0898\n",
            "Epoch 38/50\n",
            "\u001b[1m18/18\u001b[0m \u001b[32m━━━━━━━━━━━━━━━━━━━━\u001b[0m\u001b[37m\u001b[0m \u001b[1m0s\u001b[0m 5ms/step - loss: 244.1490 - mse: 244.1490 - val_loss: 356.4862 - val_mse: 356.4862\n",
            "Epoch 39/50\n",
            "\u001b[1m18/18\u001b[0m \u001b[32m━━━━━━━━━━━━━━━━━━━━\u001b[0m\u001b[37m\u001b[0m \u001b[1m0s\u001b[0m 5ms/step - loss: 232.7572 - mse: 232.7572 - val_loss: 355.0493 - val_mse: 355.0493\n",
            "Epoch 40/50\n",
            "\u001b[1m18/18\u001b[0m \u001b[32m━━━━━━━━━━━━━━━━━━━━\u001b[0m\u001b[37m\u001b[0m \u001b[1m0s\u001b[0m 5ms/step - loss: 257.6669 - mse: 257.6669 - val_loss: 355.6615 - val_mse: 355.6615\n",
            "Epoch 41/50\n",
            "\u001b[1m18/18\u001b[0m \u001b[32m━━━━━━━━━━━━━━━━━━━━\u001b[0m\u001b[37m\u001b[0m \u001b[1m0s\u001b[0m 4ms/step - loss: 245.8119 - mse: 245.8119 - val_loss: 352.9196 - val_mse: 352.9196\n",
            "Epoch 42/50\n",
            "\u001b[1m18/18\u001b[0m \u001b[32m━━━━━━━━━━━━━━━━━━━━\u001b[0m\u001b[37m\u001b[0m \u001b[1m0s\u001b[0m 5ms/step - loss: 259.4035 - mse: 259.4035 - val_loss: 355.9677 - val_mse: 355.9677\n",
            "Epoch 43/50\n",
            "\u001b[1m18/18\u001b[0m \u001b[32m━━━━━━━━━━━━━━━━━━━━\u001b[0m\u001b[37m\u001b[0m \u001b[1m0s\u001b[0m 4ms/step - loss: 257.7587 - mse: 257.7587 - val_loss: 356.9486 - val_mse: 356.9486\n",
            "Epoch 44/50\n",
            "\u001b[1m18/18\u001b[0m \u001b[32m━━━━━━━━━━━━━━━━━━━━\u001b[0m\u001b[37m\u001b[0m \u001b[1m0s\u001b[0m 5ms/step - loss: 241.0918 - mse: 241.0918 - val_loss: 359.4890 - val_mse: 359.4890\n",
            "Epoch 45/50\n",
            "\u001b[1m18/18\u001b[0m \u001b[32m━━━━━━━━━━━━━━━━━━━━\u001b[0m\u001b[37m\u001b[0m \u001b[1m0s\u001b[0m 5ms/step - loss: 248.1251 - mse: 248.1251 - val_loss: 358.1193 - val_mse: 358.1193\n",
            "Epoch 46/50\n",
            "\u001b[1m18/18\u001b[0m \u001b[32m━━━━━━━━━━━━━━━━━━━━\u001b[0m\u001b[37m\u001b[0m \u001b[1m0s\u001b[0m 4ms/step - loss: 252.9410 - mse: 252.9410 - val_loss: 356.2214 - val_mse: 356.2214\n",
            "Epoch 47/50\n",
            "\u001b[1m18/18\u001b[0m \u001b[32m━━━━━━━━━━━━━━━━━━━━\u001b[0m\u001b[37m\u001b[0m \u001b[1m0s\u001b[0m 4ms/step - loss: 255.0419 - mse: 255.0419 - val_loss: 357.5077 - val_mse: 357.5077\n",
            "Epoch 48/50\n",
            "\u001b[1m18/18\u001b[0m \u001b[32m━━━━━━━━━━━━━━━━━━━━\u001b[0m\u001b[37m\u001b[0m \u001b[1m0s\u001b[0m 4ms/step - loss: 243.4467 - mse: 243.4467 - val_loss: 358.5303 - val_mse: 358.5303\n",
            "Epoch 49/50\n",
            "\u001b[1m18/18\u001b[0m \u001b[32m━━━━━━━━━━━━━━━━━━━━\u001b[0m\u001b[37m\u001b[0m \u001b[1m0s\u001b[0m 6ms/step - loss: 241.6066 - mse: 241.6066 - val_loss: 358.2928 - val_mse: 358.2928\n",
            "Epoch 50/50\n",
            "\u001b[1m18/18\u001b[0m \u001b[32m━━━━━━━━━━━━━━━━━━━━\u001b[0m\u001b[37m\u001b[0m \u001b[1m0s\u001b[0m 4ms/step - loss: 243.8365 - mse: 243.8365 - val_loss: 357.5453 - val_mse: 357.5453\n",
            "\u001b[1m6/6\u001b[0m \u001b[32m━━━━━━━━━━━━━━━━━━━━\u001b[0m\u001b[37m\u001b[0m \u001b[1m0s\u001b[0m 12ms/step\n",
            "Neural Network Regressor Results\n",
            "MSE: 309.591552734375\n",
            "R2 Score: -0.032556891441345215\n",
            "Summary of Model Performances:\n",
            "Neural Network Regressor - MSE: 309.591552734375, R2 Score: -0.032556891441345215\n"
          ]
        }
      ]
    },
    {
      "cell_type": "code",
      "source": [
        " # Saving the trained model\n",
        "nn_model.save('fault_prediction_model.h5')\n",
        "print(\"Model saved as 'fault_prediction_model.h5'\")\n"
      ],
      "metadata": {
        "colab": {
          "base_uri": "https://localhost:8080/"
        },
        "id": "qqo9zvWopRsM",
        "outputId": "1b0001df-4ddc-49db-9547-10d14828198a"
      },
      "execution_count": 24,
      "outputs": [
        {
          "output_type": "stream",
          "name": "stderr",
          "text": [
            "WARNING:absl:You are saving your model as an HDF5 file via `model.save()` or `keras.saving.save_model(model)`. This file format is considered legacy. We recommend using instead the native Keras format, e.g. `model.save('my_model.keras')` or `keras.saving.save_model(model, 'my_model.keras')`. \n"
          ]
        },
        {
          "output_type": "stream",
          "name": "stdout",
          "text": [
            "Model saved as 'fault_prediction_model.h5'\n"
          ]
        }
      ]
    },
    {
      "cell_type": "code",
      "source": [],
      "metadata": {
        "id": "EjnnMYmmpzY4"
      },
      "execution_count": null,
      "outputs": []
    }
  ]
}